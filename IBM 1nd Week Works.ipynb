{
 "cells": [
  {
   "cell_type": "markdown",
   "id": "c74825da-316e-4d0a-82f5-03e50575408e",
   "metadata": {},
   "source": [
    "# * DÖNGÜLER *"
   ]
  },
  {
   "cell_type": "code",
   "execution_count": 142,
   "id": "97800940-87de-4080-9d05-832d2ad48897",
   "metadata": {},
   "outputs": [],
   "source": [
    "# WHILE ÇALIŞMASI"
   ]
  },
  {
   "cell_type": "code",
   "execution_count": 134,
   "id": "daa86b71-9f55-4cbe-909b-35f67a3df5f1",
   "metadata": {},
   "outputs": [
    {
     "name": "stdin",
     "output_type": "stream",
     "text": [
      "Pozitif bir sayı giriniz:  15\n"
     ]
    },
    {
     "name": "stdout",
     "output_type": "stream",
     "text": [
      "sayınız pozitif 15\n"
     ]
    }
   ],
   "source": [
    "x = int(input(\"Pozitif bir sayı giriniz: \"))\n",
    "\n",
    "while x < 0:\n",
    "    print(\"negatif bir sayı girdiniz tekrar deneyin: \")\n",
    "    x = int(input(\"Pozitif bir sayı giriniz: \"))\n",
    "\n",
    "print(\"sayınız pozitif\" , x)\n",
    "            "
   ]
  },
  {
   "cell_type": "code",
   "execution_count": null,
   "id": "3c7c7090-5cf2-43e2-bbb8-7381992cc722",
   "metadata": {},
   "outputs": [],
   "source": []
  },
  {
   "cell_type": "code",
   "execution_count": null,
   "id": "245a10ce-ce16-462e-916e-8216ff276966",
   "metadata": {},
   "outputs": [],
   "source": []
  },
  {
   "cell_type": "markdown",
   "id": "7d194edd-4929-4d36-a66c-54a6f0aee7fa",
   "metadata": {},
   "source": [
    "# While ile 1'den 100'e kadar olan sayıların toplamı"
   ]
  },
  {
   "cell_type": "code",
   "execution_count": 140,
   "id": "64e5ebf8-37e4-4feb-8a52-4b511ed57896",
   "metadata": {},
   "outputs": [
    {
     "name": "stdout",
     "output_type": "stream",
     "text": [
      "5050\n"
     ]
    }
   ],
   "source": [
    "toplam=0\n",
    "x=0\n",
    "\n",
    "while x<=100:\n",
    "    toplam += x\n",
    "    x +=1\n",
    "print(toplam)"
   ]
  },
  {
   "cell_type": "code",
   "execution_count": null,
   "id": "0a53570f-3f25-4311-b405-4fb7171086ed",
   "metadata": {},
   "outputs": [],
   "source": []
  },
  {
   "cell_type": "code",
   "execution_count": null,
   "id": "96672267-f0ff-40a5-ab79-eff7056ac9fd",
   "metadata": {},
   "outputs": [],
   "source": []
  },
  {
   "cell_type": "markdown",
   "id": "6adadd13-969f-4b2e-9a10-fd597b6043fa",
   "metadata": {},
   "source": [
    "# IF ELSE ELIF CODE"
   ]
  },
  {
   "cell_type": "code",
   "execution_count": 32,
   "id": "56228ce3-19ea-4401-8ef8-99811a77dbc3",
   "metadata": {},
   "outputs": [
    {
     "name": "stdin",
     "output_type": "stream",
     "text": [
      "Bir sayı giriniz:  2\n"
     ]
    },
    {
     "name": "stdout",
     "output_type": "stream",
     "text": [
      "Sayınız çift sayı\n",
      "Program sona ulaştı\n"
     ]
    }
   ],
   "source": [
    "x = int(input(\"Bir sayı giriniz: \"))\n",
    "\n",
    "if x % 2 == 0: \n",
    "    print(\"Sayınız çift sayı\")\n",
    "\n",
    "elif x % 3==0:\n",
    "    print(\"Sayınız 3 ile tam bölünüyor\")\n",
    "\n",
    "else:\n",
    "    print(\"Sayınız 3 ile tam bölünmüyor\")\n",
    "\n",
    "print(\"Program sona ulaştı\")\n"
   ]
  },
  {
   "cell_type": "code",
   "execution_count": null,
   "id": "a18a99d4-9e1f-40d2-82ce-6b41ec49e932",
   "metadata": {},
   "outputs": [],
   "source": []
  },
  {
   "cell_type": "code",
   "execution_count": null,
   "id": "8ea74288-0fe3-4d64-a3a5-122e5b80eef1",
   "metadata": {},
   "outputs": [],
   "source": []
  },
  {
   "cell_type": "markdown",
   "id": "cd01ecf6-5770-4d87-9c17-a40fa0a9a729",
   "metadata": {},
   "source": [
    "# IF ELSE CODE "
   ]
  },
  {
   "cell_type": "code",
   "execution_count": 50,
   "id": "b4208062-f7ba-43bb-a04d-9126e3195541",
   "metadata": {},
   "outputs": [
    {
     "name": "stdin",
     "output_type": "stream",
     "text": [
      "Bir sayı giriniz:  45\n"
     ]
    },
    {
     "name": "stdout",
     "output_type": "stream",
     "text": [
      " Sayı 7 veya 11 ile bölünemiyor\n",
      "Program sona erdi\n"
     ]
    }
   ],
   "source": [
    "x = int(input(\"Bir sayı giriniz: \"))\n",
    "\n",
    "if (x % 7 == 0) and (x % 11 == 0):\n",
    "    if x % 3 == 0:\n",
    "        print(\"Sayı 3 7 ve 11\\'e bölünebiliyor\")\n",
    "    else:\n",
    "        print(\"Sayı 3 ile bölünemiyor\")\n",
    "\n",
    "else:\n",
    "    print(\" Sayı 7 veya 11 ile bölünemiyor\")\n",
    "\n",
    "print(\"Program sona erdi\")"
   ]
  },
  {
   "cell_type": "markdown",
   "id": "533c7181-c5d3-4633-ad74-036a17068eda",
   "metadata": {},
   "source": [
    "#  * Email ve Şifre ile ilgili bir uygulama "
   ]
  },
  {
   "cell_type": "code",
   "execution_count": 146,
   "id": "966dca83-200a-408c-9040-67d88b15668c",
   "metadata": {},
   "outputs": [
    {
     "name": "stdin",
     "output_type": "stream",
     "text": [
      "Mailinizi giriniz:  erayfatih@gmail.com\n",
      "Şifrenizi giriniz:  123456\n"
     ]
    },
    {
     "name": "stdout",
     "output_type": "stream",
     "text": [
      "giriş başarılı\n"
     ]
    }
   ],
   "source": [
    "email = \"erayfatih@gmail.com\"\n",
    "password = \"123456\"\n",
    "\n",
    "girilenEmail = input(\"Mailinizi giriniz: \")\n",
    "girilenPassword = input(\"Şifrenizi giriniz: \")\n",
    "\n",
    "if (girilenEmail == email):\n",
    "    if (girilenPassword == password):\n",
    "        print(\"giriş başarılı\")\n",
    "    else:\n",
    "        print(\"parolanız yanlış\")\n",
    "\n",
    "else: print(\"hatalı bilgi girdiniz\")"
   ]
  },
  {
   "cell_type": "code",
   "execution_count": null,
   "id": "1c520bd1-5006-42b9-9a42-a329cc4797de",
   "metadata": {},
   "outputs": [],
   "source": []
  },
  {
   "cell_type": "code",
   "execution_count": null,
   "id": "885daa1c-822b-4d28-8b56-2868cd3fae2f",
   "metadata": {},
   "outputs": [],
   "source": []
  },
  {
   "cell_type": "markdown",
   "id": "8ed6c2da-41c7-4bff-bd87-a42530a0b1b2",
   "metadata": {},
   "source": [
    "# PYTHON UYGULAMA 1 IBM"
   ]
  },
  {
   "cell_type": "code",
   "execution_count": 126,
   "id": "5e431f19-5c74-435c-8c7c-3479571bb2ee",
   "metadata": {},
   "outputs": [
    {
     "name": "stdout",
     "output_type": "stream",
     "text": [
      "3\n",
      "3\n",
      "4\n",
      "4\n"
     ]
    }
   ],
   "source": [
    "i = 2\n",
    "\n",
    "for x in range(i):\n",
    "    i += 1\n",
    "    print(i)\n",
    "    print(i)\n",
    "\n"
   ]
  },
  {
   "cell_type": "code",
   "execution_count": null,
   "id": "e5e402ce-fcf7-4da5-af44-119699a30eb4",
   "metadata": {},
   "outputs": [],
   "source": []
  },
  {
   "cell_type": "code",
   "execution_count": null,
   "id": "0afc89a8-68d6-47e5-b6a7-18e0af5199e0",
   "metadata": {},
   "outputs": [],
   "source": []
  },
  {
   "cell_type": "markdown",
   "id": "89611562-8984-4fd7-9051-5d185323b6ec",
   "metadata": {},
   "source": [
    "# FOR CODE "
   ]
  },
  {
   "cell_type": "code",
   "execution_count": 92,
   "id": "07daacec-9818-4f92-9ed2-0c1ec41c5c9c",
   "metadata": {},
   "outputs": [
    {
     "name": "stdout",
     "output_type": "stream",
     "text": [
      "5050\n"
     ]
    }
   ],
   "source": [
    "toplam = 0\n",
    "\n",
    "for c in range(101):\n",
    "    toplam += c\n",
    "print(toplam)    "
   ]
  },
  {
   "cell_type": "code",
   "execution_count": null,
   "id": "ad39c3b9-7390-4d9a-b5eb-0a60e1c4e174",
   "metadata": {},
   "outputs": [],
   "source": []
  },
  {
   "cell_type": "code",
   "execution_count": null,
   "id": "c8683965-7253-405c-9861-0850e2bc246c",
   "metadata": {},
   "outputs": [],
   "source": []
  },
  {
   "cell_type": "markdown",
   "id": "9b143609-aeaa-4a48-a12d-b244d345155e",
   "metadata": {},
   "source": [
    "# FOR CODE\n"
   ]
  },
  {
   "cell_type": "code",
   "execution_count": 120,
   "id": "03afbbf3-769c-46c1-9d2d-f510d064fa87",
   "metadata": {},
   "outputs": [
    {
     "name": "stdout",
     "output_type": "stream",
     "text": [
      "0\n",
      "1\n",
      "2\n"
     ]
    }
   ],
   "source": [
    "for i in range(10):\n",
    "    if i == 3:\n",
    "     break\n",
    "    \n",
    "    print(i)\n"
   ]
  }
 ],
 "metadata": {
  "kernelspec": {
   "display_name": "Python 3 (ipykernel)",
   "language": "python",
   "name": "python3"
  },
  "language_info": {
   "codemirror_mode": {
    "name": "ipython",
    "version": 3
   },
   "file_extension": ".py",
   "mimetype": "text/x-python",
   "name": "python",
   "nbconvert_exporter": "python",
   "pygments_lexer": "ipython3",
   "version": "3.11.7"
  }
 },
 "nbformat": 4,
 "nbformat_minor": 5
}
